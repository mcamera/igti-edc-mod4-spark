{
 "cells": [
  {
   "cell_type": "code",
   "execution_count": 82,
   "metadata": {},
   "outputs": [],
   "source": [
    "from pyspark.sql import SparkSession\n",
    "import pyspark.sql.functions as F\n",
    "from pyspark.sql.types import *\n",
    "from pyspark.sql.window import Window"
   ]
  },
  {
   "cell_type": "code",
   "execution_count": 7,
   "metadata": {},
   "outputs": [
    {
     "name": "stdout",
     "output_type": "stream",
     "text": [
      "Defaulting to user installation because normal site-packages is not writeable\n",
      "Collecting findspark\n",
      "  Using cached findspark-2.0.1-py2.py3-none-any.whl (4.4 kB)\n",
      "Installing collected packages: findspark\n",
      "Successfully installed findspark-2.0.1\n"
     ]
    }
   ],
   "source": [
    "!pip install findspark"
   ]
  },
  {
   "cell_type": "code",
   "execution_count": 7,
   "metadata": {},
   "outputs": [
    {
     "data": {
      "text/html": [
       "\n",
       "            <div>\n",
       "                <p><b>SparkSession - hive</b></p>\n",
       "                \n",
       "        <div>\n",
       "            <p><b>SparkContext</b></p>\n",
       "\n",
       "            <p><a href=\"http://localhost:4040\">Spark UI</a></p>\n",
       "\n",
       "            <dl>\n",
       "              <dt>Version</dt>\n",
       "                <dd><code>v3.2.1</code></dd>\n",
       "              <dt>Master</dt>\n",
       "                <dd><code>local[*]</code></dd>\n",
       "              <dt>AppName</dt>\n",
       "                <dd><code>PySparkShell</code></dd>\n",
       "            </dl>\n",
       "        </div>\n",
       "        \n",
       "            </div>\n",
       "        "
      ],
      "text/plain": [
       "<pyspark.sql.session.SparkSession at 0x7fd78cf982b0>"
      ]
     },
     "execution_count": 7,
     "metadata": {},
     "output_type": "execute_result"
    }
   ],
   "source": [
    "import findspark\n",
    "findspark.init()\n",
    "\n",
    "spark = SparkSession.builder.getOrCreate()\n",
    "spark"
   ]
  },
  {
   "cell_type": "code",
   "execution_count": 23,
   "metadata": {},
   "outputs": [],
   "source": [
    "df_titles = spark.read.csv('data/title_basics.tsv', header=True, sep='\\t')\n",
    "df_ratings = spark.read.csv('data/title_ratings.tsv', header=True, sep='\\t')"
   ]
  },
  {
   "cell_type": "code",
   "execution_count": 14,
   "metadata": {},
   "outputs": [
    {
     "name": "stdout",
     "output_type": "stream",
     "text": [
      "root\n",
      " |-- tconst: string (nullable = true)\n",
      " |-- titleType: string (nullable = true)\n",
      " |-- primaryTitle: string (nullable = true)\n",
      " |-- originalTitle: string (nullable = true)\n",
      " |-- isAdult: string (nullable = true)\n",
      " |-- startYear: string (nullable = true)\n",
      " |-- endYear: string (nullable = true)\n",
      " |-- runtimeMinutes: string (nullable = true)\n",
      " |-- genres: string (nullable = true)\n",
      "\n"
     ]
    }
   ],
   "source": [
    "df_titles.printSchema()"
   ]
  },
  {
   "cell_type": "markdown",
   "metadata": {},
   "source": [
    " ### Quantos filmes (incluindo os da televisão) foram lançados no ano de 2015?"
   ]
  },
  {
   "cell_type": "code",
   "execution_count": 24,
   "metadata": {},
   "outputs": [
    {
     "name": "stdout",
     "output_type": "stream",
     "text": [
      "+------------+\n",
      "|   titleType|\n",
      "+------------+\n",
      "|    tvSeries|\n",
      "|tvMiniSeries|\n",
      "|     tvMovie|\n",
      "|   tvEpisode|\n",
      "|       movie|\n",
      "|   tvSpecial|\n",
      "|       video|\n",
      "|   videoGame|\n",
      "|     tvShort|\n",
      "|       short|\n",
      "|     tvPilot|\n",
      "| radioSeries|\n",
      "|radioEpisode|\n",
      "+------------+\n",
      "\n"
     ]
    }
   ],
   "source": [
    "df_titles.select('titleType').distinct().show()"
   ]
  },
  {
   "cell_type": "code",
   "execution_count": 28,
   "metadata": {},
   "outputs": [
    {
     "data": {
      "text/plain": [
       "19987"
      ]
     },
     "execution_count": 28,
     "metadata": {},
     "output_type": "execute_result"
    }
   ],
   "source": [
    "df_titles.filter((F.col('startYear') == 2015) & (F.col('titleType').isin('movie', 'tvMovie'))).count()"
   ]
  },
  {
   "cell_type": "markdown",
   "metadata": {},
   "source": [
    "### Qual o gênero de títulos mais frequente? \n",
    "#### Dica: Utilize as funções split e explode. \n"
   ]
  },
  {
   "cell_type": "code",
   "execution_count": 61,
   "metadata": {},
   "outputs": [
    {
     "name": "stdout",
     "output_type": "stream",
     "text": [
      "+------------+-------+\n",
      "|genres_unico|  count|\n",
      "+------------+-------+\n",
      "|       Drama|2247995|\n",
      "|      Comedy|1653725|\n",
      "|       Short|1021850|\n",
      "|   Talk-Show| 900198|\n",
      "| Documentary| 764885|\n",
      "|     Romance| 724729|\n",
      "|          \\N| 643012|\n",
      "|      Family| 571470|\n",
      "|        News| 524662|\n",
      "|  Reality-TV| 423455|\n",
      "+------------+-------+\n",
      "only showing top 10 rows\n",
      "\n"
     ]
    }
   ],
   "source": [
    "(\n",
    "    df_titles\n",
    "    .withColumn('genres_array', F.split(F.col('genres'), ','))\n",
    "    .withColumn('genres_unico', F.explode(F.col('genres_array')))\n",
    "    .select('primaryTitle','genres_unico')\n",
    "    .groupBy('genres_unico')\n",
    "    .count()\n",
    "    .orderBy(F.col('count').desc())\n",
    "    .show(10)\n",
    ")"
   ]
  },
  {
   "cell_type": "markdown",
   "metadata": {},
   "source": [
    "###  Pergunta 8\n",
    "Qual o gênero com a melhor nota média de títulos?  "
   ]
  },
  {
   "cell_type": "code",
   "execution_count": 59,
   "metadata": {},
   "outputs": [],
   "source": [
    "df_titles_ratings = (\n",
    "    df_titles\n",
    "    .join(df_ratings, 'tconst', 'left')\n",
    "    .filter('averageRating is not null')\n",
    ")"
   ]
  },
  {
   "cell_type": "code",
   "execution_count": 60,
   "metadata": {},
   "outputs": [
    {
     "name": "stdout",
     "output_type": "stream",
     "text": [
      "+---------+---------+--------------------+--------------------+-------+---------+-------+--------------+-----------------+-------------+--------+\n",
      "|   tconst|titleType|        primaryTitle|       originalTitle|isAdult|startYear|endYear|runtimeMinutes|           genres|averageRating|numVotes|\n",
      "+---------+---------+--------------------+--------------------+-------+---------+-------+--------------+-----------------+-------------+--------+\n",
      "|tt0000008|    short|Edison Kinetoscop...|Edison Kinetoscop...|      0|     1894|     \\N|             1|Documentary,Short|          5.5|    1965|\n",
      "|tt0000015|    short| Autour d'une cabine| Autour d'une cabine|      0|     1894|     \\N|             2|  Animation,Short|          6.2|     947|\n",
      "+---------+---------+--------------------+--------------------+-------+---------+-------+--------------+-----------------+-------------+--------+\n",
      "only showing top 2 rows\n",
      "\n"
     ]
    }
   ],
   "source": [
    "df_titles_ratings.show(2)"
   ]
  },
  {
   "cell_type": "code",
   "execution_count": null,
   "metadata": {},
   "outputs": [],
   "source": [
    "+---------+---------+--------------------+--------------------+-------+---------+-------+--------------+-----------------+-------------+--------+\n",
    "|   tconst|titleType|        primaryTitle|       originalTitle|isAdult|startYear|endYear|runtimeMinutes|           genres|averageRating|numVotes|\n",
    "+---------+---------+--------------------+--------------------+-------+---------+-------+--------------+-----------------+-------------+--------+\n",
    "|tt0000008|    short|Edison Kinetoscop...|Edison Kinetoscop...|      0|     1894|     \\N|             1|Documentary,Short|          5.5|    1965|\n",
    "|tt0000015|    short| Autour d'une cabine| Autour d'une cabine|      0|     1894|     \\N|             2|  Animation,Short|          6.2|     947|\n",
    "+---------+---------+--------------------+--------------------+-------+---------+-------+--------------+-----------------+-------------+--------+"
   ]
  },
  {
   "cell_type": "code",
   "execution_count": 73,
   "metadata": {},
   "outputs": [
    {
     "name": "stdout",
     "output_type": "stream",
     "text": [
      "+------------+------------------+\n",
      "|genres_unico|             media|\n",
      "+------------+------------------+\n",
      "|     History| 7.353780102645081|\n",
      "| Documentary| 7.240198535554571|\n",
      "|   Biography| 7.175531914893618|\n",
      "|     Mystery| 7.170086406897934|\n",
      "|       Crime| 7.159842868485927|\n",
      "|   Adventure| 7.107629703351722|\n",
      "|     Fantasy| 7.095145650845382|\n",
      "|   Animation|7.0893811714832236|\n",
      "|     Western| 7.080683426568711|\n",
      "|      Family| 7.070054926034473|\n",
      "+------------+------------------+\n",
      "only showing top 10 rows\n",
      "\n"
     ]
    }
   ],
   "source": [
    "(\n",
    "    df_titles_ratings\n",
    "    .withColumn('genres_array', F.split(F.col('genres'), ','))\n",
    "    .withColumn('genres_unico', F.explode(F.col('genres_array')))\n",
    "    .select('genres_unico', 'averageRating')\n",
    "    .groupBy('genres_unico')\n",
    "    .agg(F.avg('averageRating').alias('media'))\n",
    "    .orderBy(F.col('media').desc())\n",
    "    .show(10)\n",
    ")"
   ]
  },
  {
   "cell_type": "markdown",
   "metadata": {},
   "source": [
    "### Pergunta 9 (1,67 pts)\n",
    "Qual o vídeo game do gênero aventura mais bem avaliado em 2020?  "
   ]
  },
  {
   "cell_type": "code",
   "execution_count": 80,
   "metadata": {},
   "outputs": [
    {
     "name": "stdout",
     "output_type": "stream",
     "text": [
      "+--------------------+------------+-------------+\n",
      "|       originalTitle|genres_unico|averageRating|\n",
      "+--------------------+------------+-------------+\n",
      "|     Half-Life: Alyx|   Adventure|          9.5|\n",
      "|   Ghost of Tsushima|   Adventure|          9.3|\n",
      "|               Omori|   Adventure|          9.2|\n",
      "|Ori and the Will ...|   Adventure|          9.1|\n",
      "|Final Fantasy VII...|   Adventure|          9.1|\n",
      "|There Is No Game:...|   Adventure|          8.9|\n",
      "|Mega Man Zero/ZX ...|   Adventure|          8.9|\n",
      "|       Demon's Souls|   Adventure|          8.8|\n",
      "|Xenoblade Chronic...|   Adventure|          8.8|\n",
      "|Ryu ga gotoku 7: ...|   Adventure|          8.8|\n",
      "+--------------------+------------+-------------+\n",
      "only showing top 10 rows\n",
      "\n"
     ]
    }
   ],
   "source": [
    "(\n",
    "    df_titles_ratings\n",
    "    .filter((F.col('startYear') == 2020) & (F.col('titleType') == 'videoGame'))\n",
    "    .withColumn('genres_array', F.split(F.col('genres'), ','))\n",
    "    .withColumn('genres_unico', F.explode(F.col('genres_array')))\n",
    "    .select('originalTitle', 'genres_unico', 'averageRating')\n",
    "    .filter((F.col('genres_unico') == 'Adventure'))\n",
    "    .orderBy(F.col('averageRating').desc())\n",
    "    .show(10)\n",
    ")"
   ]
  },
  {
   "cell_type": "markdown",
   "metadata": {},
   "source": [
    "### Pergunta 11 (1,67 pts)\n",
    "\n",
    "Qual o percentual de títulos do gênero comédia lançados em 2018 em relação ao total de títulos lançados nesse ano? \n",
    "\n",
    "Dica: Utilize as funções Split, explode e uma window function."
   ]
  },
  {
   "cell_type": "code",
   "execution_count": 109,
   "metadata": {},
   "outputs": [
    {
     "data": {
      "text/plain": [
       "402244"
      ]
     },
     "execution_count": 109,
     "metadata": {},
     "output_type": "execute_result"
    }
   ],
   "source": [
    "total_2018 = (\n",
    "    df_titles\n",
    "    .filter(F.col('startYear') == 2018)\n",
    "    .count()\n",
    ")\n",
    "total_2018"
   ]
  },
  {
   "cell_type": "code",
   "execution_count": 103,
   "metadata": {
    "scrolled": false
   },
   "outputs": [
    {
     "name": "stdout",
     "output_type": "stream",
     "text": [
      "+---------+---------+------------------+------------------+-------+---------+-------+--------------+--------------------+------+\n",
      "|   tconst|titleType|      primaryTitle|     originalTitle|isAdult|startYear|endYear|runtimeMinutes|              genres| genre|\n",
      "+---------+---------+------------------+------------------+-------+---------+-------+--------------+--------------------+------+\n",
      "|tt0111414|    movie|       A Thin Life|       A Thin Life|      0|     2018|     \\N|            75|              Comedy|Comedy|\n",
      "|tt0365545|    movie|Nappily Ever After|Nappily Ever After|      0|     2018|     \\N|            98|Comedy,Drama,Romance|Comedy|\n",
      "|tt0380870| tvSeries|     Comedy Circus|     Comedy Circus|      0|     2018|     \\N|            30|              Comedy|Comedy|\n",
      "|tt0640426|tvEpisode| Vidas Brasileiras| Vidas Brasileiras|      0|     2018|     \\N|            \\N|  Comedy,Drama,Music|Comedy|\n",
      "|tt0640427|tvEpisode| Vidas Brasileiras| Vidas Brasileiras|      0|     2018|     \\N|            \\N|  Comedy,Drama,Music|Comedy|\n",
      "+---------+---------+------------------+------------------+-------+---------+-------+--------------+--------------------+------+\n",
      "only showing top 5 rows\n",
      "\n"
     ]
    }
   ],
   "source": [
    "df_titles_subset = (\n",
    "    df_titles\n",
    "    .filter(\"cast(startYear as int) == 2018\")\n",
    "#     .sample(fraction = 0.5)\n",
    "    .withColumn('genre', F.split('genres', ',').getItem(0))\n",
    "    .filter(F.col('genre') == 'Comedy')\n",
    ")\n",
    "df_titles_subset.show(5)"
   ]
  },
  {
   "cell_type": "code",
   "execution_count": 111,
   "metadata": {},
   "outputs": [
    {
     "data": {
      "text/html": [
       "<div>\n",
       "<style scoped>\n",
       "    .dataframe tbody tr th:only-of-type {\n",
       "        vertical-align: middle;\n",
       "    }\n",
       "\n",
       "    .dataframe tbody tr th {\n",
       "        vertical-align: top;\n",
       "    }\n",
       "\n",
       "    .dataframe thead th {\n",
       "        text-align: right;\n",
       "    }\n",
       "</style>\n",
       "<table border=\"1\" class=\"dataframe\">\n",
       "  <thead>\n",
       "    <tr style=\"text-align: right;\">\n",
       "      <th></th>\n",
       "      <th>genre</th>\n",
       "      <th>startYear</th>\n",
       "      <th>media_minutos</th>\n",
       "      <th>meadia_movel_3anos</th>\n",
       "    </tr>\n",
       "  </thead>\n",
       "  <tbody>\n",
       "    <tr>\n",
       "      <th>0</th>\n",
       "      <td>Comedy</td>\n",
       "      <td>2018</td>\n",
       "      <td>33.659187</td>\n",
       "      <td>33.659</td>\n",
       "    </tr>\n",
       "  </tbody>\n",
       "</table>\n",
       "</div>"
      ],
      "text/plain": [
       "    genre startYear  media_minutos  meadia_movel_3anos\n",
       "0  Comedy      2018      33.659187              33.659"
      ]
     },
     "execution_count": 111,
     "metadata": {},
     "output_type": "execute_result"
    }
   ],
   "source": [
    "w = Window.partitionBy('genre').orderBy('startYear').rowsBetween(Window.unboundedPreceding, Window.currentRow)\n",
    "(\n",
    "    df_titles_subset\n",
    "    .withColumn('runtimeMinutes', F.col('runtimeMinutes').cast('int'))\n",
    "    .groupby('genre', 'startYear')\n",
    "    .agg(F.expr('mean(runtimeMinutes) as media_minutos'))\n",
    "    .orderBy('genre', 'startYear')\n",
    "    .withColumn('meadia_movel_3anos', F.round(F.mean('media_minutos').over(w), 3))\n",
    "    .limit(15)\n",
    "    .toPandas()\n",
    ")"
   ]
  },
  {
   "cell_type": "code",
   "execution_count": null,
   "metadata": {},
   "outputs": [],
   "source": [
    "w = Window.partitionBy('genre').orderBy('startYear').rowsBetween(Window.unboundedPreceding, Window.currentRow)\n",
    "(\n",
    "    df_titles_subset\n",
    "    .withColumn('runtimeMinutes', F.col('runtimeMinutes').cast('int'))\n",
    "    .groupby('genre', 'startYear')\n",
    "    .agg(F.expr('mean(runtimeMinutes) as media_minutos'))\n",
    "    .orderBy('genre', 'startYear')\n",
    "    .withColumn('meadia_movel_3anos', F.round(F.mean('media_minutos').over(w), 3))\n",
    "    .withColumn('runtimeMinutes', F.col('runtimeMinutes').cast('int'))\n",
    "    .limit(15)\n",
    "    .toPandas()\n",
    ")"
   ]
  },
  {
   "cell_type": "markdown",
   "metadata": {},
   "source": [
    "##  Pergunta 14 (1,67 pts)\n",
    "Considere a definição de uma udf abaixo: \n",
    "\n",
    "```\n",
    "def sqr_divide(value): \n",
    "\n",
    "    return (value**2)/2 \n",
    "\n",
    "sqr_divide_udf = udf(sqr_divide, IntegerType()) \n",
    "```\n",
    "\n",
    "A definição de sqr_divide_udf possui um problema. Depois de solucionar o problema, ao executar:\n",
    "\n",
    "```\n",
    "(\n",
    "    df_ratings\n",
    "    .withColumn('averageRating', F.col('averageRating').cast('double'))\n",
    "    .select(sqr_divide_udf('averageRating').alias('averageRating'))\n",
    "    .agg(F.mean('averageRating').alias('averageRating'))\n",
    "    .show()\n",
    ")\n",
    "```\n",
    "\n",
    "o que retorna é: \n",
    "\n",
    "\n",
    "Obs.: Considere 3 casas decimais. \n"
   ]
  },
  {
   "cell_type": "code",
   "execution_count": 52,
   "metadata": {},
   "outputs": [],
   "source": [
    "def sqr_divide(value): \n",
    "\n",
    "    return (value**2)/2 \n",
    "\n",
    "sqr_divide_udf = F.udf(sqr_divide, FloatType())"
   ]
  },
  {
   "cell_type": "code",
   "execution_count": 53,
   "metadata": {},
   "outputs": [
    {
     "name": "stdout",
     "output_type": "stream",
     "text": [
      "+------------------+\n",
      "|     averageRating|\n",
      "+------------------+\n",
      "|24.899137954281525|\n",
      "+------------------+\n",
      "\n"
     ]
    }
   ],
   "source": [
    "(\n",
    "    df_ratings\n",
    "    .withColumn('averageRating', F.col('averageRating').cast('double'))\n",
    "    .select(sqr_divide_udf('averageRating').alias('averageRating'))\n",
    "    .agg(F.mean('averageRating').alias('averageRating'))\n",
    "    .show()\n",
    ")"
   ]
  }
 ],
 "metadata": {
  "kernelspec": {
   "display_name": "Python 3",
   "language": "python",
   "name": "python3"
  },
  "language_info": {
   "codemirror_mode": {
    "name": "ipython",
    "version": 3
   },
   "file_extension": ".py",
   "mimetype": "text/x-python",
   "name": "python",
   "nbconvert_exporter": "python",
   "pygments_lexer": "ipython3",
   "version": "3.8.5"
  }
 },
 "nbformat": 4,
 "nbformat_minor": 4
}
